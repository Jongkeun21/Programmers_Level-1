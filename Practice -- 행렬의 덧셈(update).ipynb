{
 "cells": [
  {
   "cell_type": "code",
   "execution_count": 7,
   "metadata": {},
   "outputs": [],
   "source": [
    "def solution(arr1, arr2) :\n",
    "    answer = [[] for col in range(len(arr1))]\n",
    "    \n",
    "    for i in range(len(arr1)) :\n",
    "        for j in range(len(arr1[i])) :\n",
    "            answer[i].append(arr1[i][j]+arr2[i][j])\n",
    "    \n",
    "    return answer"
   ]
  },
  {
   "cell_type": "code",
   "execution_count": null,
   "metadata": {},
   "outputs": [],
   "source": [
    "def solution(arr1, arr2) :\n",
    "    arr3 = [[0 for a in range(len(arr1[0]))] for b in range(len(arr1))]\n",
    "    \n",
    "    for i in range(len(arr1)) :\n",
    "        for j in range(len(arr1[i])) :\n",
    "            arr3[i][j] = arr1[i][j]+arr2[i][j]\n",
    "    \n",
    "    return arr3"
   ]
  }
 ],
 "metadata": {
  "kernelspec": {
   "display_name": "Python 3",
   "language": "python",
   "name": "python3"
  },
  "language_info": {
   "codemirror_mode": {
    "name": "ipython",
    "version": 3
   },
   "file_extension": ".py",
   "mimetype": "text/x-python",
   "name": "python",
   "nbconvert_exporter": "python",
   "pygments_lexer": "ipython3",
   "version": "3.7.3"
  }
 },
 "nbformat": 4,
 "nbformat_minor": 2
}
