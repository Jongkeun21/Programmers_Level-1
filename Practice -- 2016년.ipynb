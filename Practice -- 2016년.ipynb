{
 "cells": [
  {
   "cell_type": "code",
   "execution_count": 1,
   "metadata": {},
   "outputs": [],
   "source": [
    "def solution(a, b) :\n",
    "    answer = ''\n",
    "    dates = []\n",
    "    day = [\"THU\",\"FRI\", \"SAT\", \"SUN\", \"MON\", \"TUE\", \"WED\"]\n",
    "    \n",
    "    for i in range(1,13) :\n",
    "        if i == 2 :\n",
    "            date = 29\n",
    "        elif i == 4 or i == 6 or i == 9 or i == 11:\n",
    "            date = 30\n",
    "        else :\n",
    "            date = 31\n",
    "\n",
    "        dates.append(date)\n",
    "        \n",
    "    answer = day[(sum(dates[:a-1])+b)%7]     \n",
    "    \n",
    "    return answer"
   ]
  },
  {
   "cell_type": "code",
   "execution_count": 60,
   "metadata": {},
   "outputs": [],
   "source": [
    "a = 5\n",
    "b = 24"
   ]
  }
 ],
 "metadata": {
  "kernelspec": {
   "display_name": "Python 3",
   "language": "python",
   "name": "python3"
  },
  "language_info": {
   "codemirror_mode": {
    "name": "ipython",
    "version": 3
   },
   "file_extension": ".py",
   "mimetype": "text/x-python",
   "name": "python",
   "nbconvert_exporter": "python",
   "pygments_lexer": "ipython3",
   "version": "3.7.3"
  }
 },
 "nbformat": 4,
 "nbformat_minor": 2
}
