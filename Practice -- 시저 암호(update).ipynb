{
 "cells": [
  {
   "cell_type": "code",
   "execution_count": 1,
   "metadata": {},
   "outputs": [],
   "source": [
    "def solution(s, n) :\n",
    "    answer = ''\n",
    "    input_ = {}\n",
    "    output = {}\n",
    "    alpha = \"abcdefghijklmnopqrstuvwxyz\"\n",
    "    \n",
    "    for idx, char in enumerate(alpha) :\n",
    "        input_[char] = idx\n",
    "        output[idx] = char\n",
    "        \n",
    "    for char in s :\n",
    "        if char == ' ' :\n",
    "            answer += ' '\n",
    "        else :\n",
    "            try :\n",
    "                answer += output[(input_[char]+n)%26]\n",
    "            except :\n",
    "                answer += output[(input_[char.lower()]+n)%26].upper()\n",
    "#             if char.isupper() :\n",
    "#                 answer += output[(input_[char.lower()]+n)%26].upper()\n",
    "#             else :\n",
    "#                 answer += output[(input_[char]+n)%26]\n",
    "    \n",
    "    return answer"
   ]
  }
 ],
 "metadata": {
  "kernelspec": {
   "display_name": "Python 3",
   "language": "python",
   "name": "python3"
  },
  "language_info": {
   "codemirror_mode": {
    "name": "ipython",
    "version": 3
   },
   "file_extension": ".py",
   "mimetype": "text/x-python",
   "name": "python",
   "nbconvert_exporter": "python",
   "pygments_lexer": "ipython3",
   "version": "3.7.3"
  }
 },
 "nbformat": 4,
 "nbformat_minor": 2
}
