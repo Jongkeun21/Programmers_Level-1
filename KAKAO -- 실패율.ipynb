{
 "cells": [
  {
   "cell_type": "code",
   "execution_count": 1,
   "metadata": {},
   "outputs": [],
   "source": [
    "def solution(N, stages) :\n",
    "    answer = []\n",
    "    \n",
    "    cnt = 0\n",
    "    dic = {}\n",
    "\n",
    "    for i in range(1, N+1) :\n",
    "        cnt_over = len(stages) - cnt\n",
    "        \n",
    "        if cnt_over == 0 :\n",
    "            dic[i] = 0 \n",
    "        else :\n",
    "            dic[i] = stages.count(i)/cnt_over\n",
    "            \n",
    "        cnt += stages.count(i)\n",
    "        \n",
    "    answer = sorted(dic, key=lambda k: dic[k], reverse=True)\n",
    "    \n",
    "    return answer"
   ]
  }
 ],
 "metadata": {
  "kernelspec": {
   "display_name": "Python 3",
   "language": "python",
   "name": "python3"
  },
  "language_info": {
   "codemirror_mode": {
    "name": "ipython",
    "version": 3
   },
   "file_extension": ".py",
   "mimetype": "text/x-python",
   "name": "python",
   "nbconvert_exporter": "python",
   "pygments_lexer": "ipython3",
   "version": "3.7.3"
  }
 },
 "nbformat": 4,
 "nbformat_minor": 2
}
