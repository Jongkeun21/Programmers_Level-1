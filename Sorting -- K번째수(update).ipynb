{
 "cells": [
  {
   "cell_type": "code",
   "execution_count": 19,
   "metadata": {},
   "outputs": [],
   "source": [
    "def solution(array, commands) :\n",
    "    answer = []\n",
    "    for i in range(len(commands)) :\n",
    "        result = []\n",
    "        for j in range(len(commands[i])) :\n",
    "            result = array[commands[i][0]-1:commands[i][1]]\n",
    "            result.sort()\n",
    "        answer.append(result[commands[i][2]-1])\n",
    "        \n",
    "    return answer"
   ]
  },
  {
   "cell_type": "code",
   "execution_count": null,
   "metadata": {},
   "outputs": [],
   "source": [
    "def solution(array, commands) :\n",
    "    answer = [[] for col in range(len(commands))]\n",
    "\n",
    "    for idx, command in enumerate(commands) :\n",
    "        answer[idx] = sorted(array[command[0]-1:command[1]])[command[2]-1]\n",
    "        \n",
    "    return answer"
   ]
  }
 ],
 "metadata": {
  "kernelspec": {
   "display_name": "Python 3",
   "language": "python",
   "name": "python3"
  },
  "language_info": {
   "codemirror_mode": {
    "name": "ipython",
    "version": 3
   },
   "file_extension": ".py",
   "mimetype": "text/x-python",
   "name": "python",
   "nbconvert_exporter": "python",
   "pygments_lexer": "ipython3",
   "version": "3.7.3"
  }
 },
 "nbformat": 4,
 "nbformat_minor": 2
}
