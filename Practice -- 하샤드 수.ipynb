{
 "cells": [
  {
   "cell_type": "code",
   "execution_count": 1,
   "metadata": {},
   "outputs": [],
   "source": [
    "def solution(x) :\n",
    "    answer = True\n",
    "    sum_ = 0\n",
    "    num = x\n",
    "\n",
    "    while x > 0 :\n",
    "        sum_ += x%10\n",
    "        x = x//10\n",
    "\n",
    "    if num%sum_ != 0 :\n",
    "        answer = False\n",
    "    \n",
    "    return answer"
   ]
  }
 ],
 "metadata": {
  "kernelspec": {
   "display_name": "Python 3",
   "language": "python",
   "name": "python3"
  },
  "language_info": {
   "codemirror_mode": {
    "name": "ipython",
    "version": 3
   },
   "file_extension": ".py",
   "mimetype": "text/x-python",
   "name": "python",
   "nbconvert_exporter": "python",
   "pygments_lexer": "ipython3",
   "version": "3.7.3"
  }
 },
 "nbformat": 4,
 "nbformat_minor": 2
}
