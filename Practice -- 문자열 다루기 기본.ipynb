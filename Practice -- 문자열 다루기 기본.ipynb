{
 "cells": [
  {
   "cell_type": "code",
   "execution_count": 7,
   "metadata": {},
   "outputs": [],
   "source": [
    "def solution(s) :\n",
    "    answer = True\n",
    "    numbers = \"0123456789\"\n",
    "    \n",
    "    if len(s) == 4 or len(s) == 6 :\n",
    "        for char in s :\n",
    "            if char not in numbers :\n",
    "                answer = False\n",
    "                break\n",
    "    else :\n",
    "        answer = False\n",
    "    \n",
    "    return answer"
   ]
  }
 ],
 "metadata": {
  "kernelspec": {
   "display_name": "Python 3",
   "language": "python",
   "name": "python3"
  },
  "language_info": {
   "codemirror_mode": {
    "name": "ipython",
    "version": 3
   },
   "file_extension": ".py",
   "mimetype": "text/x-python",
   "name": "python",
   "nbconvert_exporter": "python",
   "pygments_lexer": "ipython3",
   "version": "3.7.3"
  }
 },
 "nbformat": 4,
 "nbformat_minor": 2
}
