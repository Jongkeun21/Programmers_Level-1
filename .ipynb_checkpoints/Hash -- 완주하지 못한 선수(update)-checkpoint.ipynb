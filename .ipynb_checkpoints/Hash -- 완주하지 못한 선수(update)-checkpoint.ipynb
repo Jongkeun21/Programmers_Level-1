{
 "cells": [
  {
   "cell_type": "code",
   "execution_count": 1,
   "metadata": {},
   "outputs": [],
   "source": [
    "participant = [\"leo\", \"kiki\", \"eden\"]\n",
    "completion = [\"eden\", \"kiki\"]\n",
    "\n",
    "def solution(participant, completion) :\n",
    "    completion.append(\"z\")\n",
    "    participant.sort()\n",
    "    completion.sort()\n",
    "    result = []\n",
    "    \n",
    "    for i in range(len(participant)) :\n",
    "        if participant[i] != completion[i] :\n",
    "            result.append(participant[i])\n",
    "            \n",
    "    return result"
   ]
  },
  {
   "cell_type": "code",
   "execution_count": null,
   "metadata": {},
   "outputs": [],
   "source": [
    "from collections import Counter\n",
    "\n",
    "def solution(participant, completion) :\n",
    "    a = Counter(participant)\n",
    "    b = Counter(completion)\n",
    "    c = a&b\n",
    "\n",
    "    answer = list(a-c)[0]\n",
    "    \n",
    "    return answer"
   ]
  }
 ],
 "metadata": {
  "kernelspec": {
   "display_name": "Python 3",
   "language": "python",
   "name": "python3"
  },
  "language_info": {
   "codemirror_mode": {
    "name": "ipython",
    "version": 3
   },
   "file_extension": ".py",
   "mimetype": "text/x-python",
   "name": "python",
   "nbconvert_exporter": "python",
   "pygments_lexer": "ipython3",
   "version": "3.5.2"
  }
 },
 "nbformat": 4,
 "nbformat_minor": 2
}
