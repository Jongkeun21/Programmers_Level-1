{
 "cells": [
  {
   "cell_type": "code",
   "execution_count": 82,
   "metadata": {},
   "outputs": [],
   "source": [
    "k = 10\n",
    "room_number = [1,3,4,1,3,1]"
   ]
  },
  {
   "cell_type": "code",
   "execution_count": 83,
   "metadata": {},
   "outputs": [],
   "source": [
    "class Variables:\n",
    "    room = {}\n",
    "\n",
    "def isEmpty(num) :\n",
    "    if Variables.room[num] == 0 :\n",
    "        return num\n",
    "    else :\n",
    "        return isEmpty(Variables.room[num])\n",
    "\n",
    "def solution(k, room_number) :\n",
    "    result = []\n",
    "    Variables.room = {i+1: 0 for i in range(k)}\n",
    "    \n",
    "    for num in room_number :\n",
    "#         print(f\"num: {num}\")\n",
    "        if Variables.room[num] == 0 :\n",
    "            result.append(num)\n",
    "            Variables.room[num] = isEmpty(num+1)\n",
    "#             print(f\"Variables.room: {Variables.room}\")\n",
    "        else :\n",
    "            temp = isEmpty(num)\n",
    "#             print(f\"temp: {temp}\")\n",
    "            result.append(temp)\n",
    "            Variables.room[temp] = isEmpty(temp+1)\n",
    "#             print(f\"Variables.room: {Variables.room}\")\n",
    "            \n",
    "    return result"
   ]
  },
  {
   "cell_type": "code",
   "execution_count": null,
   "metadata": {},
   "outputs": [],
   "source": []
  }
 ],
 "metadata": {
  "kernelspec": {
   "display_name": "Python 3",
   "language": "python",
   "name": "python3"
  },
  "language_info": {
   "codemirror_mode": {
    "name": "ipython",
    "version": 3
   },
   "file_extension": ".py",
   "mimetype": "text/x-python",
   "name": "python",
   "nbconvert_exporter": "python",
   "pygments_lexer": "ipython3",
   "version": "3.7.3"
  }
 },
 "nbformat": 4,
 "nbformat_minor": 2
}
