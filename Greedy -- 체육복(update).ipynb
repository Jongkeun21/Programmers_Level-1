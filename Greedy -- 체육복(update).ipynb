{
 "cells": [
  {
   "cell_type": "code",
   "execution_count": 1,
   "metadata": {},
   "outputs": [],
   "source": [
    "def solution(n, lost, reserve) :\n",
    "    answer = 0\n",
    "    new_reserve = []\n",
    "    new_lost = []\n",
    "    borrow = []\n",
    "\n",
    "    for num in reserve :\n",
    "        if num not in lost :\n",
    "            new_reserve.append(num)\n",
    "\n",
    "    for num in lost :\n",
    "        if num not in reserve :\n",
    "            new_lost.append(num)\n",
    "            \n",
    "    for student in new_lost :\n",
    "        if student-1 in new_reserve :\n",
    "            borrow.append(student)\n",
    "            new_reserve.remove(student-1)\n",
    "        elif student+1 in new_reserve :\n",
    "            borrow.append(student)\n",
    "            new_reserve.remove(student+1)\n",
    "            \n",
    "    answer = n-(len(new_lost)-len(borrow))\n",
    "    \n",
    "    return answer"
   ]
  },
  {
   "cell_type": "code",
   "execution_count": 4,
   "metadata": {},
   "outputs": [],
   "source": [
    "from collections import Counter\n",
    "\n",
    "def solution(n, lost, reserve) :\n",
    "    a = Counter(reserve)\n",
    "    b = Counter(lost)\n",
    "\n",
    "    lost_clear = list(b-a)\n",
    "    reserve_clear = list(a-b)\n",
    "\n",
    "    reserve_dic = {}\n",
    "    for num in reserve_clear :\n",
    "        reserve_dic[num] = True\n",
    "\n",
    "    result = []\n",
    "\n",
    "    for lost_ in lost_clear :\n",
    "        if lost_-1 in reserve_clear and reserve_dic[lost_-1] :\n",
    "            result.append(lost_)\n",
    "            reserve_dic[lost_-1] = False\n",
    "\n",
    "        elif lost_+1 in reserve_clear and reserve_dic[lost_+1] :\n",
    "            result.append(lost_)\n",
    "            reserve_dic[lost_+1] = False\n",
    "\n",
    "    return n-(len(lost_clear)-len(result))"
   ]
  }
 ],
 "metadata": {
  "kernelspec": {
   "display_name": "Python 3",
   "language": "python",
   "name": "python3"
  },
  "language_info": {
   "codemirror_mode": {
    "name": "ipython",
    "version": 3
   },
   "file_extension": ".py",
   "mimetype": "text/x-python",
   "name": "python",
   "nbconvert_exporter": "python",
   "pygments_lexer": "ipython3",
   "version": "3.7.3"
  }
 },
 "nbformat": 4,
 "nbformat_minor": 2
}
