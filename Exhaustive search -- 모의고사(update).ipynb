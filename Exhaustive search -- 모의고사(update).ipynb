{
 "cells": [
  {
   "cell_type": "code",
   "execution_count": null,
   "metadata": {},
   "outputs": [],
   "source": [
    "def solution(answers):\n",
    "    student = [[] for row in range(3)]\n",
    "    student[0] = [1,2,3,4,5]\n",
    "    student[1] = [2,1,2,3,2,4,2,5]\n",
    "    student[2] = [3,3,1,1,2,2,4,4,5,5]\n",
    "    \n",
    "    for i in range(len(student)) :\n",
    "        while len(student[i]) < len(answers) :\n",
    "            student[i] += student[i]\n",
    "            \n",
    "    score = [0 for col in range(3)]\n",
    "    \n",
    "    for k in range(len(student)) :\n",
    "        for l in range(len(answers)) :\n",
    "            if answers[l] == student[k][l] :\n",
    "                score[k] += 1     \n",
    "    \n",
    "    findMax = score[0]\n",
    "    answer = []\n",
    "\n",
    "    for m in range(len(score)-1) :\n",
    "        if findMax < score[m+1] :\n",
    "            findMax = score[m+1]\n",
    "\n",
    "    for n in range(len(score)) :\n",
    "        if score[n] == findMax :\n",
    "            answer.append(n+1)\n",
    "                \n",
    "    answer.sort()\n",
    "    return answer"
   ]
  },
  {
   "cell_type": "code",
   "execution_count": null,
   "metadata": {},
   "outputs": [],
   "source": [
    "def solution(answer) :\n",
    "    student = {}\n",
    "    student[1] = [1,2,3,4,5]\n",
    "    student[2] = [2,1,2,3,2,4,2,5]\n",
    "    student[3] = [3,3,1,1,2,2,4,4,5,5]\n",
    "\n",
    "    scores = [[0, col+1] for col in range(3)]\n",
    "\n",
    "    a = len(student[1])\n",
    "    b = len(student[2])\n",
    "    c = len(student[3])\n",
    "\n",
    "    for i in range(len(answer)) :\n",
    "        if answer[i] == student[1][i%a] :\n",
    "            scores[0][0] += 1\n",
    "        if answer[i] == student[2][i%b] :\n",
    "            scores[1][0] += 1\n",
    "        if answer[i] == student[3][i%c] :\n",
    "            scores[2][0] += 1\n",
    "\n",
    "    dic = {}\n",
    "\n",
    "    for score in scores :\n",
    "        try :\n",
    "            dic[score[0]] += [score[1]]\n",
    "        except :\n",
    "            dic[score[0]] = [score[1]]\n",
    "\n",
    "    return dic[sorted(dic)[-1]]"
   ]
  }
 ],
 "metadata": {
  "kernelspec": {
   "display_name": "Python 3",
   "language": "python",
   "name": "python3"
  },
  "language_info": {
   "codemirror_mode": {
    "name": "ipython",
    "version": 3
   },
   "file_extension": ".py",
   "mimetype": "text/x-python",
   "name": "python",
   "nbconvert_exporter": "python",
   "pygments_lexer": "ipython3",
   "version": "3.7.3"
  }
 },
 "nbformat": 4,
 "nbformat_minor": 2
}
