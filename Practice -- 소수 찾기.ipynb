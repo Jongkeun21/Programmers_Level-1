{
 "cells": [
  {
   "cell_type": "code",
   "execution_count": 1,
   "metadata": {},
   "outputs": [],
   "source": [
    "def solution(n) :\n",
    "    dic = {num: True for num in range(2, n+1)}\n",
    "        \n",
    "    for i in range(2, int(n**0.5)+1) :\n",
    "        if dic[i] :\n",
    "            for j in range(i+i, n+1, i) :\n",
    "                dic[j] = False  \n",
    "    \n",
    "    return len([answer for answer in dic.values() if answer])"
   ]
  },
  {
   "cell_type": "code",
   "execution_count": null,
   "metadata": {},
   "outputs": [],
   "source": []
  }
 ],
 "metadata": {
  "kernelspec": {
   "display_name": "Python 3",
   "language": "python",
   "name": "python3"
  },
  "language_info": {
   "codemirror_mode": {
    "name": "ipython",
    "version": 3
   },
   "file_extension": ".py",
   "mimetype": "text/x-python",
   "name": "python",
   "nbconvert_exporter": "python",
   "pygments_lexer": "ipython3",
   "version": "3.7.3"
  }
 },
 "nbformat": 4,
 "nbformat_minor": 2
}
