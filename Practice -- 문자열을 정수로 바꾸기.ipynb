{
 "cells": [
  {
   "cell_type": "code",
   "execution_count": 1,
   "metadata": {},
   "outputs": [],
   "source": [
    "def solution(s) :\n",
    "    answer = 0\n",
    "    flag = False\n",
    "    dic = {}\n",
    "    \n",
    "    for i in range(0, 10) :\n",
    "        dic[str(i)] = i\n",
    "        \n",
    "    for idx, char in enumerate(s) :\n",
    "        if char == '-' :\n",
    "            flag = True\n",
    "        elif char == '+' :\n",
    "            flag = False\n",
    "        else :\n",
    "            answer += dic[char] * (10**(len(s)-idx-1))\n",
    "            \n",
    "    if flag :\n",
    "        answer = - + answer\n",
    "    \n",
    "    return answer"
   ]
  },
  {
   "cell_type": "code",
   "execution_count": 26,
   "metadata": {},
   "outputs": [],
   "source": [
    "s = \"1234\""
   ]
  }
 ],
 "metadata": {
  "kernelspec": {
   "display_name": "Python 3",
   "language": "python",
   "name": "python3"
  },
  "language_info": {
   "codemirror_mode": {
    "name": "ipython",
    "version": 3
   },
   "file_extension": ".py",
   "mimetype": "text/x-python",
   "name": "python",
   "nbconvert_exporter": "python",
   "pygments_lexer": "ipython3",
   "version": "3.7.3"
  }
 },
 "nbformat": 4,
 "nbformat_minor": 2
}
