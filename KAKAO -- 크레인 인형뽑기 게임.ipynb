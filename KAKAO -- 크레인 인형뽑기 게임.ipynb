{
 "cells": [
  {
   "cell_type": "code",
   "execution_count": null,
   "metadata": {},
   "outputs": [],
   "source": [
    "def solution(board, moves) :\n",
    "    reverse = [[board[i][j] for i in reversed(range(len(board))) if board[i][j] != 0] for j in range(len(board[0]))]\n",
    "    basket = []\n",
    "    \n",
    "    for num in moves :\n",
    "        if reverse[num-1] :\n",
    "            basket.append(reverse[num-1].pop())\n",
    "            \n",
    "    before = len(basket)\n",
    "            \n",
    "    for i in range(len(basket)-2, -1, -1) :\n",
    "#         print(basket[i], basket[i+1])\n",
    "        if basket[i] == basket[i+1] :\n",
    "            basket.pop(i)\n",
    "            basket.pop(i)\n",
    "            \n",
    "    return before-len(basket)"
   ]
  }
 ],
 "metadata": {
  "kernelspec": {
   "display_name": "Python 3",
   "language": "python",
   "name": "python3"
  },
  "language_info": {
   "codemirror_mode": {
    "name": "ipython",
    "version": 3
   },
   "file_extension": ".py",
   "mimetype": "text/x-python",
   "name": "python",
   "nbconvert_exporter": "python",
   "pygments_lexer": "ipython3",
   "version": "3.7.3"
  }
 },
 "nbformat": 4,
 "nbformat_minor": 2
}
