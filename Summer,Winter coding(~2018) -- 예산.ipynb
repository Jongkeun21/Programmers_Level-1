{
 "cells": [
  {
   "cell_type": "code",
   "execution_count": 1,
   "metadata": {},
   "outputs": [],
   "source": [
    "import heapq\n",
    "\n",
    "def solution(d, budget) :\n",
    "    answer = 0\n",
    "    result = [0,0]\n",
    "    heapq.heapify(d)\n",
    "    \n",
    "    while result[1] <= budget:\n",
    "        result[0] += 1\n",
    "\n",
    "        if result[1] == budget or len(d) == 0 : \n",
    "            break\n",
    "        else :\n",
    "            result[1] += heapq.heappop(d)\n",
    "    \n",
    "    answer = result[0]-1\n",
    "    \n",
    "    return answer"
   ]
  }
 ],
 "metadata": {
  "kernelspec": {
   "display_name": "Python 3",
   "language": "python",
   "name": "python3"
  },
  "language_info": {
   "codemirror_mode": {
    "name": "ipython",
    "version": 3
   },
   "file_extension": ".py",
   "mimetype": "text/x-python",
   "name": "python",
   "nbconvert_exporter": "python",
   "pygments_lexer": "ipython3",
   "version": "3.7.3"
  }
 },
 "nbformat": 4,
 "nbformat_minor": 2
}
