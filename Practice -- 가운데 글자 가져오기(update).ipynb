{
 "cells": [
  {
   "cell_type": "code",
   "execution_count": 7,
   "metadata": {},
   "outputs": [],
   "source": [
    "def solution(s) :\n",
    "    answer = ''\n",
    "    \n",
    "    if len(s)%2 == 0 :\n",
    "        middle = int(len(s)/2)\n",
    "        answer = s[middle-1]+s[middle]\n",
    "    else :\n",
    "        middle = int(len(s)/2)\n",
    "        answer = s[middle]\n",
    "\n",
    "    return answer"
   ]
  },
  {
   "cell_type": "code",
   "execution_count": 1,
   "metadata": {},
   "outputs": [],
   "source": [
    "def solution(s) :\n",
    "    point = len(s)//2\n",
    "\n",
    "    if len(s)%2 == 1 :\n",
    "        answer = s[point]\n",
    "    else :\n",
    "        answer = s[point-1:point+1]\n",
    "        \n",
    "    return answer"
   ]
  }
 ],
 "metadata": {
  "kernelspec": {
   "display_name": "Python 3",
   "language": "python",
   "name": "python3"
  },
  "language_info": {
   "codemirror_mode": {
    "name": "ipython",
    "version": 3
   },
   "file_extension": ".py",
   "mimetype": "text/x-python",
   "name": "python",
   "nbconvert_exporter": "python",
   "pygments_lexer": "ipython3",
   "version": "3.5.2"
  }
 },
 "nbformat": 4,
 "nbformat_minor": 2
}
