{
 "cells": [
  {
   "cell_type": "code",
   "execution_count": 1,
   "metadata": {},
   "outputs": [],
   "source": [
    "def quick(array, n) :\n",
    "    length = len(array)\n",
    "    \n",
    "    if length <= 1 :\n",
    "        return array\n",
    "    else :\n",
    "        pivot = array[0]\n",
    "        left = []\n",
    "        right = []\n",
    "        \n",
    "        for element in array[1:] :\n",
    "            if element[n] < pivot[n] :\n",
    "                left.append(element)\n",
    "            elif element[n] > pivot[n] :\n",
    "                right.append(element)\n",
    "            elif element[n] == pivot[n] :\n",
    "                if element < pivot :\n",
    "                    left.append(element)\n",
    "                else :\n",
    "                    right.append(element)\n",
    "        \n",
    "        return quick(left, n)+[pivot]+quick(right, n)\n",
    "\n",
    "def solution(strings, n) :\n",
    "    answer = quick(strings, n)\n",
    "    \n",
    "    return answer"
   ]
  },
  {
   "cell_type": "code",
   "execution_count": 2,
   "metadata": {},
   "outputs": [],
   "source": [
    "strings = [\"sun\", \"bed\", \"car\"]\n",
    "n = 1\n",
    "# return = [\"car\", \"bed\", \"car\"]"
   ]
  },
  {
   "cell_type": "code",
   "execution_count": 25,
   "metadata": {},
   "outputs": [],
   "source": [
    "strings = [\"abce\", \"abcd\", \"cdx\"]\n",
    "n = 2"
   ]
  },
  {
   "cell_type": "code",
   "execution_count": 26,
   "metadata": {},
   "outputs": [
    {
     "data": {
      "text/plain": [
       "['abcd', 'abce', 'cdx']"
      ]
     },
     "execution_count": 26,
     "metadata": {},
     "output_type": "execute_result"
    }
   ],
   "source": [
    "quick(strings, n)"
   ]
  }
 ],
 "metadata": {
  "kernelspec": {
   "display_name": "Python 3",
   "language": "python",
   "name": "python3"
  },
  "language_info": {
   "codemirror_mode": {
    "name": "ipython",
    "version": 3
   },
   "file_extension": ".py",
   "mimetype": "text/x-python",
   "name": "python",
   "nbconvert_exporter": "python",
   "pygments_lexer": "ipython3",
   "version": "3.7.3"
  }
 },
 "nbformat": 4,
 "nbformat_minor": 2
}
