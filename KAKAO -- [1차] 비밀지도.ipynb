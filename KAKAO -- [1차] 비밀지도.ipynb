{
 "cells": [
  {
   "cell_type": "code",
   "execution_count": 28,
   "metadata": {},
   "outputs": [],
   "source": [
    "def solution(n, arr1, arr2) :\n",
    "    answer = []\n",
    "    result = [['#' for col in range(n)] for row in range(n)]\n",
    "    \n",
    "    for i in range(n) :\n",
    "        for j in range(n) :\n",
    "            if arr1[i]%2 == 0 and arr2[i]%2 == 0 :\n",
    "                result[i][n-1-j] = ' '\n",
    "\n",
    "            arr1[i] = arr1[i]//2\n",
    "            arr2[i] = arr2[i]//2\n",
    "    \n",
    "    for line in result :\n",
    "        line_ = ''\n",
    "        for item in line :\n",
    "            line_ += item\n",
    "            \n",
    "        answer.append(line_)\n",
    "    \n",
    "    return answer"
   ]
  }
 ],
 "metadata": {
  "kernelspec": {
   "display_name": "Python 3",
   "language": "python",
   "name": "python3"
  },
  "language_info": {
   "codemirror_mode": {
    "name": "ipython",
    "version": 3
   },
   "file_extension": ".py",
   "mimetype": "text/x-python",
   "name": "python",
   "nbconvert_exporter": "python",
   "pygments_lexer": "ipython3",
   "version": "3.7.3"
  }
 },
 "nbformat": 4,
 "nbformat_minor": 2
}
